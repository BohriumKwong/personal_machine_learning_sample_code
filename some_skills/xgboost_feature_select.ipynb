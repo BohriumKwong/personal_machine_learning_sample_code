{
 "cells": [
  {
   "cell_type": "code",
   "execution_count": 1,
   "metadata": {},
   "outputs": [
    {
     "name": "stderr",
     "output_type": "stream",
     "text": [
      "/root/anaconda3/lib/python3.6/site-packages/sklearn/cross_validation.py:41: DeprecationWarning: This module was deprecated in version 0.18 in favor of the model_selection module into which all the refactored classes and functions are moved. Also note that the interface of the new CV iterators are different from that of this module. This module will be removed in 0.20.\n",
      "  \"This module will be removed in 0.20.\", DeprecationWarning)\n",
      "/root/anaconda3/lib/python3.6/site-packages/sklearn/grid_search.py:42: DeprecationWarning: This module was deprecated in version 0.18 in favor of the model_selection module into which all the refactored classes and functions are moved. This module will be removed in 0.20.\n",
      "  DeprecationWarning)\n"
     ]
    }
   ],
   "source": [
    "#coding=utf-8\n",
    "from __future__ import print_function\n",
    "from numpy import nan as NA\n",
    "import os,sys\n",
    "import numpy as np\n",
    "import pandas as pd\n",
    "import xgboost as xgb\n",
    "from xgboost.sklearn import XGBClassifier\n",
    "from sklearn.cross_validation import train_test_split\n",
    "from sklearn import preprocessing\n",
    "from sklearn import cross_validation\n",
    "import matplotlib.pylab as plt\n",
    "from sklearn.preprocessing import Imputer\n",
    "from sklearn import cross_validation, metrics\n",
    "import operator\n",
    "import time\n",
    "from sklearn.svm import SVC\n",
    "from hyperopt import hp,fmin,rand,tpe,space_eval\n",
    "from sklearn.grid_search import GridSearchCV\n",
    "from sklearn.ensemble import RandomForestClassifier, GradientBoostingClassifier\n",
    "from sklearn.linear_model import LogisticRegression\n",
    "from sklearn.metrics import *\n",
    "from sklearn.preprocessing import OneHotEncoder\n",
    "from sklearn.externals import joblib\n",
    "from functools import partial\n",
    "from collections import Counter\n",
    "from imblearn.ensemble import EasyEnsemble\n",
    "from sklearn.ensemble import BaggingClassifier\n",
    "from sklearn.tree import DecisionTreeClassifier\n",
    "from imblearn.ensemble import BalancedBaggingClassifier\n",
    "from imblearn.over_sampling import RandomOverSampler\n",
    "from imblearn.over_sampling import SMOTE, ADASYN\n",
    "from sklearn import preprocessing"
   ]
  },
  {
   "cell_type": "code",
   "execution_count": 2,
   "metadata": {},
   "outputs": [],
   "source": [
    "data = pd.read_excel('../data.xlsx')\n",
    "\n",
    "datas = data.copy()\n",
    "datas=datas.sample(frac=1)\n",
    "\n",
    "test_data =  pd.read_excel('../test_1.xlsx')\n"
   ]
  },
  {
   "cell_type": "code",
   "execution_count": 3,
   "metadata": {},
   "outputs": [],
   "source": [
    "for i in datas.columns[11:55]:\n",
    "    if datas[i].std()<=0.05:\n",
    "        datas=datas.drop([i],axis=1)\n",
    "        test_data=test_data.drop([i],axis=1)"
   ]
  },
  {
   "cell_type": "code",
   "execution_count": 5,
   "metadata": {},
   "outputs": [],
   "source": [
    "#from sklearn.feature_selection import SelectKBest\n",
    "#from sklearn.feature_selection import chi2,mutual_info_classif\n",
    "Y = datas['Cover_Type']\n",
    "X = datas.drop(['Cover_Type','Ground_position'],axis=1)\n",
    "#a = SelectKBest(mutual_info_classif).fit_transform(X, Y)"
   ]
  },
  {
   "cell_type": "code",
   "execution_count": 6,
   "metadata": {},
   "outputs": [
    {
     "data": {
      "text/plain": [
       "(100000, 46)"
      ]
     },
     "execution_count": 6,
     "metadata": {},
     "output_type": "execute_result"
    }
   ],
   "source": [
    "X.shape"
   ]
  },
  {
   "cell_type": "code",
   "execution_count": 7,
   "metadata": {
    "scrolled": true
   },
   "outputs": [
    {
     "name": "stdout",
     "output_type": "stream",
     "text": [
      "=============================begin=============================\n",
      "{'colsample_bytree': 0.10287654667498204, 'gamma': 0.5924489748707219, 'learning_rate': 0.03435745131019038, 'max_depth': 18, 'n_estimators': 66, 'reg_alpha': 2, 'reg_lambda': 13, 'scale_pos_weight': 0.5369208778723543, 'seed': 600, 'subsample': 0.8999999999999999}\n"
     ]
    },
    {
     "name": "stderr",
     "output_type": "stream",
     "text": [
      "/root/anaconda3/lib/python3.6/site-packages/sklearn/preprocessing/label.py:151: DeprecationWarning: The truth value of an empty array is ambiguous. Returning False, but in future this will result in an error. Use `array.size > 0` to check that an array is not empty.\n",
      "  if diff:\n",
      "/root/anaconda3/lib/python3.6/site-packages/sklearn/metrics/classification.py:1135: UndefinedMetricWarning: F-score is ill-defined and being set to 0.0 in labels with no predicted samples.\n",
      "  'precision', 'predicted', average, warn_for)\n"
     ]
    },
    {
     "name": "stdout",
     "output_type": "stream",
     "text": [
      "the 1 times, the accuary of test dataset： 0.4078306361766457\n",
      "Time consuming:  12.52 (s)\n",
      "\n",
      "\n",
      "{'colsample_bytree': 0.11794394414412407, 'gamma': 0.6087550041181733, 'learning_rate': 0.017508530576251957, 'max_depth': 18, 'n_estimators': 66, 'reg_alpha': 2, 'reg_lambda': 13, 'scale_pos_weight': 0.5444523071366162, 'seed': 600, 'subsample': 0.8999999999999999}\n"
     ]
    },
    {
     "name": "stderr",
     "output_type": "stream",
     "text": [
      "/root/anaconda3/lib/python3.6/site-packages/sklearn/preprocessing/label.py:151: DeprecationWarning: The truth value of an empty array is ambiguous. Returning False, but in future this will result in an error. Use `array.size > 0` to check that an array is not empty.\n",
      "  if diff:\n",
      "/root/anaconda3/lib/python3.6/site-packages/sklearn/metrics/classification.py:1135: UndefinedMetricWarning: F-score is ill-defined and being set to 0.0 in labels with no predicted samples.\n",
      "  'precision', 'predicted', average, warn_for)\n"
     ]
    },
    {
     "name": "stdout",
     "output_type": "stream",
     "text": [
      "the 2 times, the accuary of test dataset： 0.40789318394285207\n",
      "Time consuming:  27.2 (s)\n",
      "\n",
      "\n",
      "{'colsample_bytree': 0.7062182773608506, 'gamma': 0.8775677423587768, 'learning_rate': 0.015372195107675577, 'max_depth': 24, 'n_estimators': 66, 'reg_alpha': 1, 'reg_lambda': 12, 'scale_pos_weight': 0.9554379329818888, 'seed': 100, 'subsample': 0.8999999999999999}\n"
     ]
    },
    {
     "name": "stderr",
     "output_type": "stream",
     "text": [
      "/root/anaconda3/lib/python3.6/site-packages/sklearn/preprocessing/label.py:151: DeprecationWarning: The truth value of an empty array is ambiguous. Returning False, but in future this will result in an error. Use `array.size > 0` to check that an array is not empty.\n",
      "  if diff:\n"
     ]
    },
    {
     "name": "stdout",
     "output_type": "stream",
     "text": [
      "the 3 times, the accuary of test dataset： 0.6686417119957824\n",
      "Time consuming:  179.81 (s)\n",
      "\n",
      "\n",
      "{'colsample_bytree': 0.9968555512053823, 'gamma': 0.13247289234764992, 'learning_rate': 0.14866283723004842, 'max_depth': 24, 'n_estimators': 50, 'reg_alpha': 1, 'reg_lambda': 12, 'scale_pos_weight': 0.9993902028075745, 'seed': 100, 'subsample': 0.7}\n"
     ]
    },
    {
     "name": "stderr",
     "output_type": "stream",
     "text": [
      "/root/anaconda3/lib/python3.6/site-packages/sklearn/preprocessing/label.py:151: DeprecationWarning: The truth value of an empty array is ambiguous. Returning False, but in future this will result in an error. Use `array.size > 0` to check that an array is not empty.\n",
      "  if diff:\n"
     ]
    },
    {
     "name": "stdout",
     "output_type": "stream",
     "text": [
      "the 4 times, the accuary of test dataset： 0.6972190793102641\n",
      "Time consuming:  360.56 (s)\n",
      "\n",
      "\n",
      "{'colsample_bytree': 0.9942001942448359, 'gamma': 0.12125735827899176, 'learning_rate': 0.13580417294805314, 'max_depth': 17, 'n_estimators': 50, 'reg_alpha': 1, 'reg_lambda': 7, 'scale_pos_weight': 0.9310294362501514, 'seed': 100, 'subsample': 0.7}\n"
     ]
    },
    {
     "name": "stderr",
     "output_type": "stream",
     "text": [
      "/root/anaconda3/lib/python3.6/site-packages/sklearn/preprocessing/label.py:151: DeprecationWarning: The truth value of an empty array is ambiguous. Returning False, but in future this will result in an error. Use `array.size > 0` to check that an array is not empty.\n",
      "  if diff:\n"
     ]
    },
    {
     "name": "stdout",
     "output_type": "stream",
     "text": [
      "the 5 times, the accuary of test dataset： 0.698266092906249\n",
      "Time consuming:  504.1 (s)\n",
      "\n",
      "\n",
      "{'colsample_bytree': 0.8598842840068889, 'gamma': 0.10384152950709633, 'learning_rate': 0.13831288111714907, 'max_depth': 17, 'n_estimators': 86, 'reg_alpha': 0, 'reg_lambda': 7, 'scale_pos_weight': 0.127558084320826, 'seed': 1000, 'subsample': 0.7}\n"
     ]
    },
    {
     "name": "stderr",
     "output_type": "stream",
     "text": [
      "/root/anaconda3/lib/python3.6/site-packages/sklearn/preprocessing/label.py:151: DeprecationWarning: The truth value of an empty array is ambiguous. Returning False, but in future this will result in an error. Use `array.size > 0` to check that an array is not empty.\n",
      "  if diff:\n"
     ]
    },
    {
     "name": "stdout",
     "output_type": "stream",
     "text": [
      "the 6 times, the accuary of test dataset： 0.6983327758527634\n",
      "Time consuming:  726.04 (s)\n",
      "\n",
      "\n",
      "{'colsample_bytree': 0.50230667142805, 'gamma': 0.30209093628301653, 'learning_rate': 0.09832810250750967, 'max_depth': 23, 'n_estimators': 86, 'reg_alpha': 0, 'reg_lambda': 1, 'scale_pos_weight': 0.11408235544723083, 'seed': 1000, 'subsample': 1.0}\n"
     ]
    },
    {
     "name": "stderr",
     "output_type": "stream",
     "text": [
      "/root/anaconda3/lib/python3.6/site-packages/sklearn/preprocessing/label.py:151: DeprecationWarning: The truth value of an empty array is ambiguous. Returning False, but in future this will result in an error. Use `array.size > 0` to check that an array is not empty.\n",
      "  if diff:\n"
     ]
    },
    {
     "name": "stdout",
     "output_type": "stream",
     "text": [
      "the 7 times, the accuary of test dataset： 0.7010186534248214\n",
      "Time consuming:  907.64 (s)\n",
      "\n",
      "\n",
      "{'colsample_bytree': 0.4186261925439436, 'gamma': 0.3541893588477952, 'learning_rate': 0.08803704111484893, 'max_depth': 23, 'n_estimators': 54, 'reg_alpha': 0, 'reg_lambda': 1, 'scale_pos_weight': 0.17638314761211388, 'seed': 800, 'subsample': 1.0}\n"
     ]
    },
    {
     "name": "stderr",
     "output_type": "stream",
     "text": [
      "/root/anaconda3/lib/python3.6/site-packages/sklearn/preprocessing/label.py:151: DeprecationWarning: The truth value of an empty array is ambiguous. Returning False, but in future this will result in an error. Use `array.size > 0` to check that an array is not empty.\n",
      "  if diff:\n"
     ]
    },
    {
     "name": "stdout",
     "output_type": "stream",
     "text": [
      "the 8 times, the accuary of test dataset： 0.6807276565238702\n",
      "Time consuming:  1008.16 (s)\n",
      "\n",
      "\n",
      "{'colsample_bytree': 0.40322684325028413, 'gamma': 0.35987653184092805, 'learning_rate': 0.08501849089298578, 'max_depth': 19, 'n_estimators': 62, 'reg_alpha': 0, 'reg_lambda': 1, 'scale_pos_weight': 0.30878295457234034, 'seed': 400, 'subsample': 0.7999999999999999}\n"
     ]
    },
    {
     "name": "stderr",
     "output_type": "stream",
     "text": [
      "/root/anaconda3/lib/python3.6/site-packages/sklearn/preprocessing/label.py:151: DeprecationWarning: The truth value of an empty array is ambiguous. Returning False, but in future this will result in an error. Use `array.size > 0` to check that an array is not empty.\n",
      "  if diff:\n"
     ]
    },
    {
     "name": "stdout",
     "output_type": "stream",
     "text": [
      "the 9 times, the accuary of test dataset： 0.679764699826679\n",
      "Time consuming:  1105.38 (s)\n",
      "\n",
      "\n",
      "{'colsample_bytree': 0.5937057130737089, 'gamma': 0.8910542635217467, 'learning_rate': 0.055069419892170665, 'max_depth': 22, 'n_estimators': 58, 'reg_alpha': 0, 'reg_lambda': 2, 'scale_pos_weight': 0.3415574487571631, 'seed': 700, 'subsample': 1.0}\n"
     ]
    },
    {
     "name": "stderr",
     "output_type": "stream",
     "text": [
      "/root/anaconda3/lib/python3.6/site-packages/sklearn/preprocessing/label.py:151: DeprecationWarning: The truth value of an empty array is ambiguous. Returning False, but in future this will result in an error. Use `array.size > 0` to check that an array is not empty.\n",
      "  if diff:\n"
     ]
    },
    {
     "name": "stdout",
     "output_type": "stream",
     "text": [
      "the 10 times, the accuary of test dataset： 0.7034651121093796\n",
      "Time consuming:  1239.87 (s)\n",
      "\n",
      "\n",
      "{'colsample_bytree': 0.27615684358619347, 'gamma': 0.896001168589414, 'learning_rate': 0.05218895255937176, 'max_depth': 22, 'n_estimators': 58, 'reg_alpha': 0, 'reg_lambda': 2, 'scale_pos_weight': 0.7283021321849981, 'seed': 700, 'subsample': 1.0}\n"
     ]
    },
    {
     "name": "stderr",
     "output_type": "stream",
     "text": [
      "/root/anaconda3/lib/python3.6/site-packages/sklearn/preprocessing/label.py:151: DeprecationWarning: The truth value of an empty array is ambiguous. Returning False, but in future this will result in an error. Use `array.size > 0` to check that an array is not empty.\n",
      "  if diff:\n"
     ]
    },
    {
     "name": "stdout",
     "output_type": "stream",
     "text": [
      "the 11 times, the accuary of test dataset： 0.6373222292247606\n",
      "Time consuming:  1307.51 (s)\n",
      "\n",
      "\n",
      "{'colsample_bytree': 0.6969039980162184, 'gamma': 0.7634857002597908, 'learning_rate': 0.05657392509824035, 'max_depth': 21, 'n_estimators': 82, 'reg_alpha': 0, 'reg_lambda': 2, 'scale_pos_weight': 0.3387068004646522, 'seed': 500, 'subsample': 0.7999999999999999}\n"
     ]
    },
    {
     "name": "stderr",
     "output_type": "stream",
     "text": [
      "/root/anaconda3/lib/python3.6/site-packages/sklearn/preprocessing/label.py:151: DeprecationWarning: The truth value of an empty array is ambiguous. Returning False, but in future this will result in an error. Use `array.size > 0` to check that an array is not empty.\n",
      "  if diff:\n"
     ]
    },
    {
     "name": "stdout",
     "output_type": "stream",
     "text": [
      "the 12 times, the accuary of test dataset： 0.7051554293436725\n",
      "Time consuming:  1519.41 (s)\n",
      "\n",
      "\n",
      "{'colsample_bytree': 0.781117617581427, 'gamma': 0.6578309035731289, 'learning_rate': 0.11337543134584743, 'max_depth': 21, 'n_estimators': 82, 'reg_alpha': 2, 'reg_lambda': 5, 'scale_pos_weight': 0.7857436450284239, 'seed': 500, 'subsample': 0.7999999999999999}\n"
     ]
    },
    {
     "name": "stderr",
     "output_type": "stream",
     "text": [
      "/root/anaconda3/lib/python3.6/site-packages/sklearn/preprocessing/label.py:151: DeprecationWarning: The truth value of an empty array is ambiguous. Returning False, but in future this will result in an error. Use `array.size > 0` to check that an array is not empty.\n",
      "  if diff:\n"
     ]
    },
    {
     "name": "stdout",
     "output_type": "stream",
     "text": [
      "the 13 times, the accuary of test dataset： 0.7044676737120692\n",
      "Time consuming:  1740.26 (s)\n",
      "\n",
      "\n",
      "{'colsample_bytree': 0.24866002446022611, 'gamma': 0.7629716092262337, 'learning_rate': 0.06502386718630643, 'max_depth': 20, 'n_estimators': 82, 'reg_alpha': 0, 'reg_lambda': 8, 'scale_pos_weight': 0.3588758336678164, 'seed': 500, 'subsample': 0.7999999999999999}\n"
     ]
    },
    {
     "name": "stderr",
     "output_type": "stream",
     "text": [
      "/root/anaconda3/lib/python3.6/site-packages/sklearn/preprocessing/label.py:151: DeprecationWarning: The truth value of an empty array is ambiguous. Returning False, but in future this will result in an error. Use `array.size > 0` to check that an array is not empty.\n",
      "  if diff:\n"
     ]
    },
    {
     "name": "stdout",
     "output_type": "stream",
     "text": [
      "the 14 times, the accuary of test dataset： 0.6380633124831913\n",
      "Time consuming:  1817.04 (s)\n",
      "\n",
      "\n",
      "{'colsample_bytree': 0.6460177966759166, 'gamma': 0.47257390720039993, 'learning_rate': 0.11592482127807802, 'max_depth': 21, 'n_estimators': 78, 'reg_alpha': 1, 'reg_lambda': 9, 'scale_pos_weight': 0.7104686773027472, 'seed': 100, 'subsample': 0.7999999999999999}\n"
     ]
    },
    {
     "name": "stderr",
     "output_type": "stream",
     "text": [
      "/root/anaconda3/lib/python3.6/site-packages/sklearn/preprocessing/label.py:151: DeprecationWarning: The truth value of an empty array is ambiguous. Returning False, but in future this will result in an error. Use `array.size > 0` to check that an array is not empty.\n",
      "  if diff:\n"
     ]
    },
    {
     "name": "stdout",
     "output_type": "stream",
     "text": [
      "the 15 times, the accuary of test dataset： 0.6968012378049958\n",
      "Time consuming:  1991.8 (s)\n",
      "\n",
      "\n",
      "{'colsample_bytree': 0.884432790642607, 'gamma': 0.7335064711620405, 'learning_rate': 0.03677064538434245, 'max_depth': 25, 'n_estimators': 70, 'reg_alpha': 0, 'reg_lambda': 14, 'scale_pos_weight': 0.4380284106732807, 'seed': 1100, 'subsample': 0.7999999999999999}\n"
     ]
    },
    {
     "name": "stderr",
     "output_type": "stream",
     "text": [
      "/root/anaconda3/lib/python3.6/site-packages/sklearn/preprocessing/label.py:151: DeprecationWarning: The truth value of an empty array is ambiguous. Returning False, but in future this will result in an error. Use `array.size > 0` to check that an array is not empty.\n",
      "  if diff:\n"
     ]
    },
    {
     "name": "stdout",
     "output_type": "stream",
     "text": [
      "the 16 times, the accuary of test dataset： 0.6923825346446929\n",
      "Time consuming:  2207.86 (s)\n",
      "\n",
      "\n",
      "{'colsample_bytree': 0.255799233560998, 'gamma': 0.47606611008340266, 'learning_rate': 0.07010001926328141, 'max_depth': 21, 'n_estimators': 74, 'reg_alpha': 2, 'reg_lambda': 11, 'scale_pos_weight': 0.22457941462266134, 'seed': 200, 'subsample': 0.7999999999999999}\n"
     ]
    },
    {
     "name": "stderr",
     "output_type": "stream",
     "text": [
      "/root/anaconda3/lib/python3.6/site-packages/sklearn/preprocessing/label.py:151: DeprecationWarning: The truth value of an empty array is ambiguous. Returning False, but in future this will result in an error. Use `array.size > 0` to check that an array is not empty.\n",
      "  if diff:\n"
     ]
    },
    {
     "name": "stdout",
     "output_type": "stream",
     "text": [
      "the 17 times, the accuary of test dataset： 0.6314421030927959\n",
      "Time consuming:  2268.17 (s)\n",
      "\n",
      "\n",
      "{'colsample_bytree': 0.8143745753717281, 'gamma': 0.7254912538016077, 'learning_rate': 0.10890784216221872, 'max_depth': 21, 'n_estimators': 82, 'reg_alpha': 2, 'reg_lambda': 5, 'scale_pos_weight': 0.7896015566544949, 'seed': 500, 'subsample': 0.7999999999999999}\n"
     ]
    },
    {
     "name": "stderr",
     "output_type": "stream",
     "text": [
      "/root/anaconda3/lib/python3.6/site-packages/sklearn/preprocessing/label.py:151: DeprecationWarning: The truth value of an empty array is ambiguous. Returning False, but in future this will result in an error. Use `array.size > 0` to check that an array is not empty.\n",
      "  if diff:\n"
     ]
    },
    {
     "name": "stdout",
     "output_type": "stream",
     "text": [
      "the 18 times, the accuary of test dataset： 0.700830877863207\n",
      "Time consuming:  2497.84 (s)\n",
      "\n",
      "\n",
      "{'colsample_bytree': 0.7358333481393708, 'gamma': 0.5986558686174256, 'learning_rate': 0.12388750216738567, 'max_depth': 21, 'n_estimators': 82, 'reg_alpha': 2, 'reg_lambda': 6, 'scale_pos_weight': 0.8519639341644206, 'seed': 500, 'subsample': 0.7999999999999999}\n"
     ]
    },
    {
     "name": "stderr",
     "output_type": "stream",
     "text": [
      "/root/anaconda3/lib/python3.6/site-packages/sklearn/preprocessing/label.py:151: DeprecationWarning: The truth value of an empty array is ambiguous. Returning False, but in future this will result in an error. Use `array.size > 0` to check that an array is not empty.\n",
      "  if diff:\n"
     ]
    },
    {
     "name": "stdout",
     "output_type": "stream",
     "text": [
      "the 19 times, the accuary of test dataset： 0.7026045241249734\n",
      "Time consuming:  2707.53 (s)\n",
      "\n",
      "\n",
      "{'colsample_bytree': 0.7788929567743115, 'gamma': 0.6761585426102682, 'learning_rate': 0.09865924640892751, 'max_depth': 21, 'n_estimators': 82, 'reg_alpha': 2, 'reg_lambda': 5, 'scale_pos_weight': 0.6426984687745715, 'seed': 900, 'subsample': 0.7999999999999999}\n"
     ]
    },
    {
     "name": "stderr",
     "output_type": "stream",
     "text": [
      "/root/anaconda3/lib/python3.6/site-packages/sklearn/preprocessing/label.py:151: DeprecationWarning: The truth value of an empty array is ambiguous. Returning False, but in future this will result in an error. Use `array.size > 0` to check that an array is not empty.\n",
      "  if diff:\n"
     ]
    },
    {
     "name": "stdout",
     "output_type": "stream",
     "text": [
      "the 20 times, the accuary of test dataset： 0.6984851672080695\n",
      "Time consuming:  2925.13 (s)\n",
      "\n",
      "\n",
      "{'colsample_bytree': 0.6969039980162184, 'gamma': 0.7634857002597908, 'learning_rate': 0.05657392509824035, 'max_depth': 21, 'n_estimators': 82, 'reg_alpha': 0, 'reg_lambda': 2, 'scale_pos_weight': 0.3387068004646522, 'seed': 500, 'subsample': 0.7999999999999999}\n",
      "the 21 times, the accuary of test dataset： 0.7051554293436725\n",
      "Time consuming:  3140.86 (s)\n",
      "\n",
      "\n",
      "Bayesian hyperopt acc :    0.705155\n",
      "\n",
      "Bayesian hyperopt on xgboost finished! \n",
      " the total elapsed time : 3140.87 (s)\n",
      "the best params:  \n",
      " {'colsample_bytree': 0.6969039980162184, 'eta': 0.05657392509824035, 'gamma': 0.7634857002597908, 'max_depth': 4, 'n_estimators': 8, 'reg_alpha': 0, 'reg_lambda': 2, 'scale_pos_weight': 0.3387068004646522, 'seed': 5, 'subsample': 1}\n",
      "=============================over=============================\n"
     ]
    },
    {
     "name": "stderr",
     "output_type": "stream",
     "text": [
      "/root/anaconda3/lib/python3.6/site-packages/sklearn/preprocessing/label.py:151: DeprecationWarning: The truth value of an empty array is ambiguous. Returning False, but in future this will result in an error. Use `array.size > 0` to check that an array is not empty.\n",
      "  if diff:\n"
     ]
    },
    {
     "data": {
      "text/plain": [
       "\"\\n{'colsample_bytree': 0.9959746599126897, 'gamma': 0.16765591708467997, 'learning_rate': 0.14290452895531167, 'max_depth': 23, 'n_estimators': 70, 'reg_alpha': 1, 'reg_lambda': 1, 'scale_pos_weight': 0.6979891053937575, 'seed': 500, 'subsample': 1.0}\\nthe 21 times, the accuary of test dataset： 0.7008286469373489\\n\""
      ]
     },
     "execution_count": 7,
     "metadata": {},
     "output_type": "execute_result"
    }
   ],
   "source": [
    "train_x_new,val_x_new,train_y_new,val_y_new = train_test_split(X,Y,test_size = 0.25,random_state=1)\n",
    "def xgb_train_0901_new_feature_select(args):  \n",
    "    global train_x_new,val_x_new,train_y_new,val_y_new,count,epoch_acc\n",
    "    params = args\n",
    "    params['max_depth'] = params.get('max_depth')+17\n",
    "    params['n_estimators'] = params.get('n_estimators') * 4 + 50\n",
    "    params['reg_lambda'] = max(1,params.get('reg_lambda'))\n",
    "    params['subsample'] = params.get('subsample') * 0.1 + 0.7\n",
    "    params['seed'] = max(1,params.get('seed') )* 100\n",
    "    if count >0:\n",
    "        print('\\n')\n",
    "    print(params)\n",
    "    \n",
    "    params.setdefault('objective','multi:softmax')\n",
    "    params.setdefault('num_class',7)\n",
    "    params.setdefault('silent',1)\n",
    "    params.setdefault('eval_metric','merror')\n",
    "#     params.setdefault('seed',900)\n",
    "    params.setdefault('max_delta_step',30)\n",
    "    \n",
    "\n",
    "    try:\n",
    "        clf = XGBClassifier(**params)\n",
    "        model_bst =  clf.fit(train_x_new, train_y_new)\n",
    "#        model_bst = xgb.train(params, d_train_0820, 800)\n",
    "#        ypred = model_bst.predict(val_x_0821)\n",
    "#        ypred = model_bst.predict(d_test_0820, ntree_limit=model_bst.best_ntree_limit)\n",
    "    except:\n",
    "        print('error!')\n",
    "        score=0\n",
    "    else:\n",
    "        ypred = model_bst.predict(val_x_new)\n",
    "        count = count + 1\n",
    "        score = metrics.f1_score(val_y_new,ypred,average='weighted')#(val_y.values, y_test_by)\n",
    "        if epoch_acc < score:\n",
    "            joblib.dump(model_bst,'xgb_train_sklearn_0905.model')\n",
    "            epoch_acc = score\n",
    "        print(\"the %s times, the accuary of test dataset：\" % str(count),score)\n",
    "        print(\"Time consuming: \",round(time.time()-start_time,2),\"(s)\")\n",
    "    return -score\n",
    "      \n",
    "\n",
    "space = {\"max_depth\":hp.randint(\"max_depth\",9),\n",
    "         \"n_estimators\":hp.randint(\"n_estimators\",10),  #[0,1,2,3,4,5] -> [50,]\n",
    "         \"learning_rate\":hp.uniform(\"eta\",0.01, 0.15),  \n",
    "         \"subsample\":hp.randint(\"subsample\",4),#[0,1,2,3] -> [0.7,0.8,0.9,1.0]\n",
    "         \"reg_lambda\":hp.randint(\"reg_lambda\",15), #\n",
    "         \"reg_alpha\":hp.randint(\"reg_alpha\",3), \n",
    "         \"scale_pos_weight\":hp.uniform(\"scale_pos_weight\", 0.1, 1),\n",
    "         \"gamma\":hp.uniform(\"gamma\", 0.1,0.9),\n",
    "         \"colsample_bytree\":hp.uniform(\"colsample_bytree\", 0.1,1),\n",
    "         \"seed\":hp.randint(\"seed\",12),\n",
    "        }\n",
    "start_time = time.time()\n",
    "count = 0\n",
    "epoch_acc = 0\n",
    "print('=============================begin=============================')\n",
    "best = fmin(xgb_train_0901_new_feature_select, space ,algo = partial(tpe.suggest,n_startup_jobs=1),max_evals=20)\n",
    "space_eval(space,best)\n",
    "print('\\n\\n'+\"Bayesian hyperopt acc :    %f\" % - xgb_train_0901_new_feature_select(space_eval(space , best)))\n",
    "cost_time = time.time()-start_time\n",
    "print ('\\n'+\"Bayesian hyperopt on xgboost finished!\",'\\n',\"the total elapsed time :\",round(cost_time,2),\"(s)\")\n",
    "print('the best params: ','\\n',best)\n",
    "print('=============================over=============================')\n",
    "'''\n",
    "{'colsample_bytree': 0.9959746599126897, 'gamma': 0.16765591708467997, 'learning_rate': 0.14290452895531167, 'max_depth': 23, 'n_estimators': 70, 'reg_alpha': 1, 'reg_lambda': 1, 'scale_pos_weight': 0.6979891053937575, 'seed': 500, 'subsample': 1.0}\n",
    "the 21 times, the accuary of test dataset： 0.7008286469373489\n",
    "'''"
   ]
  },
  {
   "cell_type": "code",
   "execution_count": 8,
   "metadata": {
    "scrolled": true
   },
   "outputs": [
    {
     "name": "stdout",
     "output_type": "stream",
     "text": [
      "['Horizontal_Distance_To_Fire_Points', 0.16184215]\n",
      "['Hillshade_3pm', 0.10205282]\n",
      "['Horizontal_Distance_To_Roadways', 0.09625572]\n",
      "['Hillshade_Noon', 0.09263061]\n",
      "['Hillshade_9am', 0.08588783]\n",
      "['Aspect', 0.08560335]\n",
      "['Elevation', 0.08523431]\n",
      "['Vertical_Distance_To_Hydrology', 0.078718334]\n",
      "['Horizontal_Distance_To_Hydrology', 0.07350556]\n",
      "['Slope', 0.063160725]\n",
      "['Wilderness_Area_1', 0.005670242]\n",
      "['Wilderness_Area_3', 0.005597201]\n",
      "['Soil_Type_33', 0.0042363433]\n",
      "['Soil_Type_32', 0.0035290048]\n",
      "['Soil_Type_29', 0.003417522]\n",
      "['Wilderness_Area_2', 0.0033444816]\n",
      "['Soil_Type_23', 0.003286818]\n",
      "['Soil_Type_24', 0.0031061391]\n",
      "['Soil_Type_31', 0.003067697]\n",
      "['Soil_Type_10', 0.002817822]\n",
      "['Soil_Type_2', 0.0023449813]\n",
      "['Soil_Type_4', 0.0022796295]\n",
      "['Soil_Type_17', 0.0022642524]\n",
      "['Soil_Type_30', 0.0022181217]\n",
      "['Soil_Type_13', 0.0021873678]\n",
      "['Soil_Type_11', 0.0020951063]\n",
      "['Soil_Type_3', 0.0019797795]\n",
      "['Soil_Type_20', 0.0019105831]\n",
      "['Soil_Type_16', 0.0018759851]\n",
      "['Soil_Type_39', 0.00172606]\n",
      "['Soil_Type_22', 0.0016953062]\n",
      "['Wilderness_Area_4', 0.0016491754]\n",
      "['Soil_Type_38', 0.0014415869]\n",
      "['Soil_Type_6', 0.001310883]\n",
      "['Soil_Type_40', 0.0012301542]\n",
      "['Soil_Type_1', 0.0011071387]\n",
      "['Soil_Type_26', 0.00093799253]\n",
      "['Soil_Type_34', 0.00088801753]\n",
      "['Soil_Type_5', 0.0008534194]\n",
      "['Soil_Type_19', 0.000845731]\n",
      "['Soil_Type_12', 0.00083419826]\n",
      "['Soil_Type_27', 0.00083035405]\n",
      "['Soil_Type_18', 0.00079191173]\n",
      "['Soil_Type_35', 0.00073040405]\n",
      "['Soil_Type_28', 0.00063429825]\n",
      "['Soil_Type_9', 0.00037289047]\n"
     ]
    }
   ],
   "source": [
    "xgb_base= joblib.load('xgb_train_sklearn_0905.model')\n",
    "sorted_idx = np.argsort(xgb_base.feature_importances_)[::-1]\n",
    "for index in sorted_idx:\n",
    "    print([X.columns[index],xgb_base.feature_importances_[index]])"
   ]
  },
  {
   "cell_type": "code",
   "execution_count": 11,
   "metadata": {},
   "outputs": [
    {
     "name": "stdout",
     "output_type": "stream",
     "text": [
      "=============================begin=============================\n",
      "{'colsample_bytree': 0.33823761051599627, 'gamma': 0.2300326976122536, 'learning_rate': 0.06388606413227302, 'max_depth': 11, 'n_estimators': 65, 'reg_alpha': 2, 'reg_lambda': 2, 'scale_pos_weight': 0.4804479962680982, 'seed': 700, 'subsample': 0.7}\n"
     ]
    },
    {
     "name": "stderr",
     "output_type": "stream",
     "text": [
      "/root/anaconda3/lib/python3.6/site-packages/sklearn/preprocessing/label.py:151: DeprecationWarning: The truth value of an empty array is ambiguous. Returning False, but in future this will result in an error. Use `array.size > 0` to check that an array is not empty.\n",
      "  if diff:\n"
     ]
    },
    {
     "name": "stdout",
     "output_type": "stream",
     "text": [
      "the 1 times, the accuary of test dataset(new_feature_select)： 0.7394997281304037\n",
      "Time consuming:  460.52 (s)\n",
      "\n",
      "\n",
      "{'colsample_bytree': 0.2631782995654688, 'gamma': 0.1577872208489784, 'learning_rate': 0.056747877538176006, 'max_depth': 11, 'n_estimators': 65, 'reg_alpha': 2, 'reg_lambda': 2, 'scale_pos_weight': 0.4648963046358112, 'seed': 700, 'subsample': 0.7}\n"
     ]
    },
    {
     "name": "stderr",
     "output_type": "stream",
     "text": [
      "/root/anaconda3/lib/python3.6/site-packages/sklearn/preprocessing/label.py:151: DeprecationWarning: The truth value of an empty array is ambiguous. Returning False, but in future this will result in an error. Use `array.size > 0` to check that an array is not empty.\n",
      "  if diff:\n"
     ]
    },
    {
     "name": "stdout",
     "output_type": "stream",
     "text": [
      "the 2 times, the accuary of test dataset(new_feature_select)： 0.7344118951537848\n",
      "Time consuming:  826.52 (s)\n",
      "\n",
      "\n",
      "{'colsample_bytree': 0.9522429635718139, 'gamma': 0.7789208067079345, 'learning_rate': 0.1375501663962673, 'max_depth': 25, 'n_estimators': 60, 'reg_alpha': 2, 'reg_lambda': 2, 'scale_pos_weight': 0.973119071327909, 'seed': 1100, 'subsample': 0.7}\n"
     ]
    },
    {
     "name": "stderr",
     "output_type": "stream",
     "text": [
      "/root/anaconda3/lib/python3.6/site-packages/sklearn/preprocessing/label.py:151: DeprecationWarning: The truth value of an empty array is ambiguous. Returning False, but in future this will result in an error. Use `array.size > 0` to check that an array is not empty.\n",
      "  if diff:\n"
     ]
    },
    {
     "name": "stdout",
     "output_type": "stream",
     "text": [
      "the 3 times, the accuary of test dataset(new_feature_select)： 0.7561852315465615\n",
      "Time consuming:  3091.76 (s)\n",
      "\n",
      "\n",
      "{'colsample_bytree': 0.9385536433263739, 'gamma': 0.8521896012713799, 'learning_rate': 0.14839623733486662, 'max_depth': 25, 'n_estimators': 60, 'reg_alpha': 0, 'reg_lambda': 14, 'scale_pos_weight': 0.9595741937346032, 'seed': 1100, 'subsample': 0.7999999999999999}\n"
     ]
    },
    {
     "name": "stderr",
     "output_type": "stream",
     "text": [
      "/root/anaconda3/lib/python3.6/site-packages/sklearn/preprocessing/label.py:151: DeprecationWarning: The truth value of an empty array is ambiguous. Returning False, but in future this will result in an error. Use `array.size > 0` to check that an array is not empty.\n",
      "  if diff:\n"
     ]
    },
    {
     "name": "stdout",
     "output_type": "stream",
     "text": [
      "the 4 times, the accuary of test dataset(new_feature_select)： 0.7590662445895423\n",
      "Time consuming:  5331.35 (s)\n",
      "\n",
      "\n",
      "{'colsample_bytree': 0.9950617207359528, 'gamma': 0.8879543745861306, 'learning_rate': 0.14504838834470696, 'max_depth': 22, 'n_estimators': 85, 'reg_alpha': 0, 'reg_lambda': 14, 'scale_pos_weight': 0.9142632768872118, 'seed': 200, 'subsample': 0.7999999999999999}\n"
     ]
    },
    {
     "name": "stderr",
     "output_type": "stream",
     "text": [
      "/root/anaconda3/lib/python3.6/site-packages/sklearn/preprocessing/label.py:151: DeprecationWarning: The truth value of an empty array is ambiguous. Returning False, but in future this will result in an error. Use `array.size > 0` to check that an array is not empty.\n",
      "  if diff:\n"
     ]
    },
    {
     "name": "stdout",
     "output_type": "stream",
     "text": [
      "the 5 times, the accuary of test dataset(new_feature_select)： 0.7620393982982456\n",
      "Time consuming:  8322.55 (s)\n",
      "\n",
      "\n",
      "{'colsample_bytree': 0.6715969763554519, 'gamma': 0.580157154180702, 'learning_rate': 0.10846746766214026, 'max_depth': 22, 'n_estimators': 85, 'reg_alpha': 1, 'reg_lambda': 4, 'scale_pos_weight': 0.19720437997734386, 'seed': 200, 'subsample': 0.7999999999999999}\n"
     ]
    },
    {
     "name": "stderr",
     "output_type": "stream",
     "text": [
      "/root/anaconda3/lib/python3.6/site-packages/sklearn/preprocessing/label.py:151: DeprecationWarning: The truth value of an empty array is ambiguous. Returning False, but in future this will result in an error. Use `array.size > 0` to check that an array is not empty.\n",
      "  if diff:\n"
     ]
    },
    {
     "name": "stdout",
     "output_type": "stream",
     "text": [
      "the 6 times, the accuary of test dataset(new_feature_select)： 0.7596455213089075\n",
      "Time consuming:  10360.17 (s)\n",
      "\n",
      "\n",
      "{'colsample_bytree': 0.6933634567087696, 'gamma': 0.5124061439193588, 'learning_rate': 0.02117791141161001, 'max_depth': 24, 'n_estimators': 75, 'reg_alpha': 0, 'reg_lambda': 1, 'scale_pos_weight': 0.7792097699974015, 'seed': 800, 'subsample': 0.8999999999999999}\n"
     ]
    },
    {
     "name": "stderr",
     "output_type": "stream",
     "text": [
      "/root/anaconda3/lib/python3.6/site-packages/sklearn/preprocessing/label.py:151: DeprecationWarning: The truth value of an empty array is ambiguous. Returning False, but in future this will result in an error. Use `array.size > 0` to check that an array is not empty.\n",
      "  if diff:\n"
     ]
    },
    {
     "name": "stdout",
     "output_type": "stream",
     "text": [
      "the 7 times, the accuary of test dataset(new_feature_select)： 0.7539169562651536\n",
      "Time consuming:  12376.51 (s)\n",
      "\n",
      "\n",
      "{'colsample_bytree': 0.9926386257898638, 'gamma': 0.8957090183773564, 'learning_rate': 0.10691526553370884, 'max_depth': 13, 'n_estimators': 80, 'reg_alpha': 0, 'reg_lambda': 8, 'scale_pos_weight': 0.740121669154718, 'seed': 100, 'subsample': 1.0}\n"
     ]
    },
    {
     "name": "stderr",
     "output_type": "stream",
     "text": [
      "/root/anaconda3/lib/python3.6/site-packages/sklearn/preprocessing/label.py:151: DeprecationWarning: The truth value of an empty array is ambiguous. Returning False, but in future this will result in an error. Use `array.size > 0` to check that an array is not empty.\n",
      "  if diff:\n"
     ]
    },
    {
     "name": "stdout",
     "output_type": "stream",
     "text": [
      "the 8 times, the accuary of test dataset(new_feature_select)： 0.7584011529130069\n",
      "Time consuming:  13972.38 (s)\n",
      "\n",
      "\n",
      "{'colsample_bytree': 0.4660387920080894, 'gamma': 0.6962957770891838, 'learning_rate': 0.025085546114408407, 'max_depth': 17, 'n_estimators': 85, 'reg_alpha': 1, 'reg_lambda': 14, 'scale_pos_weight': 0.2514112362075617, 'seed': 500, 'subsample': 0.7999999999999999}\n"
     ]
    },
    {
     "name": "stderr",
     "output_type": "stream",
     "text": [
      "/root/anaconda3/lib/python3.6/site-packages/sklearn/preprocessing/label.py:151: DeprecationWarning: The truth value of an empty array is ambiguous. Returning False, but in future this will result in an error. Use `array.size > 0` to check that an array is not empty.\n",
      "  if diff:\n"
     ]
    },
    {
     "name": "stdout",
     "output_type": "stream",
     "text": [
      "the 9 times, the accuary of test dataset(new_feature_select)： 0.734421628670294\n",
      "Time consuming:  15138.09 (s)\n",
      "\n",
      "\n",
      "{'colsample_bytree': 0.10276572463463163, 'gamma': 0.34137371879401013, 'learning_rate': 0.11932175013809591, 'max_depth': 20, 'n_estimators': 70, 'reg_alpha': 0, 'reg_lambda': 12, 'scale_pos_weight': 0.7334022834744898, 'seed': 200, 'subsample': 0.7999999999999999}\n"
     ]
    },
    {
     "name": "stderr",
     "output_type": "stream",
     "text": [
      "/root/anaconda3/lib/python3.6/site-packages/sklearn/preprocessing/label.py:151: DeprecationWarning: The truth value of an empty array is ambiguous. Returning False, but in future this will result in an error. Use `array.size > 0` to check that an array is not empty.\n",
      "  if diff:\n"
     ]
    },
    {
     "name": "stdout",
     "output_type": "stream",
     "text": [
      "the 10 times, the accuary of test dataset(new_feature_select)： 0.7568427776590269\n",
      "Time consuming:  15392.24 (s)\n",
      "\n",
      "\n",
      "{'colsample_bytree': 0.7791694126118336, 'gamma': 0.3578569878047444, 'learning_rate': 0.08159303979078161, 'max_depth': 21, 'n_estimators': 55, 'reg_alpha': 0, 'reg_lambda': 1, 'scale_pos_weight': 0.993776552399117, 'seed': 600, 'subsample': 0.8999999999999999}\n"
     ]
    },
    {
     "name": "stderr",
     "output_type": "stream",
     "text": [
      "/root/anaconda3/lib/python3.6/site-packages/sklearn/preprocessing/label.py:151: DeprecationWarning: The truth value of an empty array is ambiguous. Returning False, but in future this will result in an error. Use `array.size > 0` to check that an array is not empty.\n",
      "  if diff:\n"
     ]
    },
    {
     "name": "stdout",
     "output_type": "stream",
     "text": [
      "the 11 times, the accuary of test dataset(new_feature_select)： 0.7561788460579612\n",
      "Time consuming:  16834.33 (s)\n",
      "\n",
      "\n",
      "{'colsample_bytree': 0.819600371613302, 'gamma': 0.6452509158788619, 'learning_rate': 0.1482851146485408, 'max_depth': 27, 'n_estimators': 50, 'reg_alpha': 0, 'reg_lambda': 6, 'scale_pos_weight': 0.599358350681499, 'seed': 300, 'subsample': 1.0}\n"
     ]
    },
    {
     "name": "stderr",
     "output_type": "stream",
     "text": [
      "/root/anaconda3/lib/python3.6/site-packages/sklearn/preprocessing/label.py:151: DeprecationWarning: The truth value of an empty array is ambiguous. Returning False, but in future this will result in an error. Use `array.size > 0` to check that an array is not empty.\n",
      "  if diff:\n"
     ]
    },
    {
     "name": "stdout",
     "output_type": "stream",
     "text": [
      "the 12 times, the accuary of test dataset(new_feature_select)： 0.758973768329567\n",
      "Time consuming:  18458.92 (s)\n",
      "\n",
      "\n",
      "{'colsample_bytree': 0.5263151530518508, 'gamma': 0.7744525111177885, 'learning_rate': 0.08593243264623077, 'max_depth': 18, 'n_estimators': 90, 'reg_alpha': 1, 'reg_lambda': 13, 'scale_pos_weight': 0.31579423180154764, 'seed': 1000, 'subsample': 0.7999999999999999}\n"
     ]
    },
    {
     "name": "stderr",
     "output_type": "stream",
     "text": [
      "/root/anaconda3/lib/python3.6/site-packages/sklearn/preprocessing/label.py:151: DeprecationWarning: The truth value of an empty array is ambiguous. Returning False, but in future this will result in an error. Use `array.size > 0` to check that an array is not empty.\n",
      "  if diff:\n"
     ]
    },
    {
     "name": "stdout",
     "output_type": "stream",
     "text": [
      "the 13 times, the accuary of test dataset(new_feature_select)： 0.7605508887618718\n",
      "Time consuming:  19986.91 (s)\n",
      "\n",
      "\n",
      "{'colsample_bytree': 0.11450195664318263, 'gamma': 0.41211123873701944, 'learning_rate': 0.04502860617849486, 'max_depth': 28, 'n_estimators': 95, 'reg_alpha': 0, 'reg_lambda': 5, 'scale_pos_weight': 0.8699727219512696, 'seed': 900, 'subsample': 0.8999999999999999}\n"
     ]
    },
    {
     "name": "stderr",
     "output_type": "stream",
     "text": [
      "/root/anaconda3/lib/python3.6/site-packages/sklearn/preprocessing/label.py:151: DeprecationWarning: The truth value of an empty array is ambiguous. Returning False, but in future this will result in an error. Use `array.size > 0` to check that an array is not empty.\n",
      "  if diff:\n"
     ]
    },
    {
     "name": "stdout",
     "output_type": "stream",
     "text": [
      "the 14 times, the accuary of test dataset(new_feature_select)： 0.7539250349022582\n",
      "Time consuming:  20474.8 (s)\n",
      "\n",
      "\n",
      "{'colsample_bytree': 0.8506757213477837, 'gamma': 0.8876667862559833, 'learning_rate': 0.1321373856577779, 'max_depth': 12, 'n_estimators': 85, 'reg_alpha': 1, 'reg_lambda': 9, 'scale_pos_weight': 0.6223015125076288, 'seed': 100, 'subsample': 1.0}\n"
     ]
    },
    {
     "name": "stderr",
     "output_type": "stream",
     "text": [
      "/root/anaconda3/lib/python3.6/site-packages/sklearn/preprocessing/label.py:151: DeprecationWarning: The truth value of an empty array is ambiguous. Returning False, but in future this will result in an error. Use `array.size > 0` to check that an array is not empty.\n",
      "  if diff:\n"
     ]
    },
    {
     "name": "stdout",
     "output_type": "stream",
     "text": [
      "the 15 times, the accuary of test dataset(new_feature_select)： 0.7625309743359233\n",
      "Time consuming:  21904.64 (s)\n",
      "\n",
      "\n",
      "{'colsample_bytree': 0.3843968100208917, 'gamma': 0.11102796404636683, 'learning_rate': 0.12588329981873692, 'max_depth': 12, 'n_estimators': 70, 'reg_alpha': 1, 'reg_lambda': 9, 'scale_pos_weight': 0.365173851229668, 'seed': 100, 'subsample': 1.0}\n"
     ]
    },
    {
     "name": "stderr",
     "output_type": "stream",
     "text": [
      "/root/anaconda3/lib/python3.6/site-packages/sklearn/preprocessing/label.py:151: DeprecationWarning: The truth value of an empty array is ambiguous. Returning False, but in future this will result in an error. Use `array.size > 0` to check that an array is not empty.\n",
      "  if diff:\n"
     ]
    },
    {
     "name": "stdout",
     "output_type": "stream",
     "text": [
      "the 16 times, the accuary of test dataset(new_feature_select)： 0.756575182312361\n",
      "Time consuming:  22463.58 (s)\n",
      "\n",
      "\n",
      "{'colsample_bytree': 0.6460030334457832, 'gamma': 0.48442864839041455, 'learning_rate': 0.09637130829297294, 'max_depth': 14, 'n_estimators': 85, 'reg_alpha': 1, 'reg_lambda': 11, 'scale_pos_weight': 0.1209783598682388, 'seed': 100, 'subsample': 1.0}\n"
     ]
    },
    {
     "name": "stderr",
     "output_type": "stream",
     "text": [
      "/root/anaconda3/lib/python3.6/site-packages/sklearn/preprocessing/label.py:151: DeprecationWarning: The truth value of an empty array is ambiguous. Returning False, but in future this will result in an error. Use `array.size > 0` to check that an array is not empty.\n",
      "  if diff:\n"
     ]
    },
    {
     "name": "stdout",
     "output_type": "stream",
     "text": [
      "the 17 times, the accuary of test dataset(new_feature_select)： 0.7595537478612766\n",
      "Time consuming:  23757.07 (s)\n",
      "\n",
      "\n",
      "{'colsample_bytree': 0.8671699566907659, 'gamma': 0.8936295745545387, 'learning_rate': 0.13471706141584866, 'max_depth': 12, 'n_estimators': 85, 'reg_alpha': 1, 'reg_lambda': 3, 'scale_pos_weight': 0.6507512710079562, 'seed': 400, 'subsample': 1.0}\n"
     ]
    },
    {
     "name": "stderr",
     "output_type": "stream",
     "text": [
      "/root/anaconda3/lib/python3.6/site-packages/sklearn/preprocessing/label.py:151: DeprecationWarning: The truth value of an empty array is ambiguous. Returning False, but in future this will result in an error. Use `array.size > 0` to check that an array is not empty.\n",
      "  if diff:\n"
     ]
    },
    {
     "name": "stdout",
     "output_type": "stream",
     "text": [
      "the 18 times, the accuary of test dataset(new_feature_select)： 0.7632204159327571\n",
      "Time consuming:  25201.39 (s)\n",
      "\n",
      "\n",
      "{'colsample_bytree': 0.8506999271883039, 'gamma': 0.7901935252374799, 'learning_rate': 0.12851458344382627, 'max_depth': 12, 'n_estimators': 85, 'reg_alpha': 1, 'reg_lambda': 7, 'scale_pos_weight': 0.6121228100866685, 'seed': 400, 'subsample': 1.0}\n"
     ]
    },
    {
     "name": "stderr",
     "output_type": "stream",
     "text": [
      "/root/anaconda3/lib/python3.6/site-packages/sklearn/preprocessing/label.py:151: DeprecationWarning: The truth value of an empty array is ambiguous. Returning False, but in future this will result in an error. Use `array.size > 0` to check that an array is not empty.\n",
      "  if diff:\n"
     ]
    },
    {
     "name": "stdout",
     "output_type": "stream",
     "text": [
      "the 19 times, the accuary of test dataset(new_feature_select)： 0.7603823841515702\n",
      "Time consuming:  26624.46 (s)\n",
      "\n",
      "\n",
      "{'colsample_bytree': 0.757906939344507, 'gamma': 0.6892100262105991, 'learning_rate': 0.10486339247893624, 'max_depth': 15, 'n_estimators': 85, 'reg_alpha': 1, 'reg_lambda': 3, 'scale_pos_weight': 0.6691145020746394, 'seed': 400, 'subsample': 1.0}\n"
     ]
    },
    {
     "name": "stderr",
     "output_type": "stream",
     "text": [
      "/root/anaconda3/lib/python3.6/site-packages/sklearn/preprocessing/label.py:151: DeprecationWarning: The truth value of an empty array is ambiguous. Returning False, but in future this will result in an error. Use `array.size > 0` to check that an array is not empty.\n",
      "  if diff:\n"
     ]
    },
    {
     "name": "stdout",
     "output_type": "stream",
     "text": [
      "the 20 times, the accuary of test dataset(new_feature_select)： 0.760876157160956\n",
      "Time consuming:  28211.5 (s)\n",
      "\n",
      "\n",
      "{'colsample_bytree': 0.8671699566907659, 'gamma': 0.8936295745545387, 'learning_rate': 0.13471706141584866, 'max_depth': 12, 'n_estimators': 85, 'reg_alpha': 1, 'reg_lambda': 3, 'scale_pos_weight': 0.6507512710079562, 'seed': 400, 'subsample': 1.0}\n",
      "the 21 times, the accuary of test dataset(new_feature_select)： 0.7632204159327571\n",
      "Time consuming:  29646.8 (s)\n",
      "\n",
      "\n",
      "Bayesian hyperopt acc :    0.763220\n",
      "\n",
      "Bayesian hyperopt on xgboost finished! \n",
      " the total elapsed time : 29646.83 (s)\n",
      "the best params:  \n",
      " {'colsample_bytree': 0.8671699566907659, 'eta': 0.13471706141584866, 'gamma': 0.8936295745545387, 'max_depth': 2, 'n_estimators': 7, 'reg_alpha': 1, 'reg_lambda': 3, 'scale_pos_weight': 0.6507512710079562, 'seed': 4, 'subsample': 3}\n",
      "=============================over=============================\n"
     ]
    },
    {
     "name": "stderr",
     "output_type": "stream",
     "text": [
      "/root/anaconda3/lib/python3.6/site-packages/sklearn/preprocessing/label.py:151: DeprecationWarning: The truth value of an empty array is ambiguous. Returning False, but in future this will result in an error. Use `array.size > 0` to check that an array is not empty.\n",
      "  if diff:\n"
     ]
    }
   ],
   "source": [
    "xgb_base= joblib.load('xgb_train_sklearn_0905_drop.model')\n",
    "train_new_feature = xgb_base.apply(X_drop)\n",
    "train_x_new,val_x_new,train_y_new,val_y_new = train_test_split(train_new_feature,Y,test_size = 0.3,random_state=0)\n",
    "def xgb_train_0901_new_feature_select(args):  \n",
    "    global train_x_new,val_x_new,train_y_new,val_y_new,count,epoch_acc\n",
    "    params = args\n",
    "    params['max_depth'] = params.get('max_depth')+10\n",
    "    params['n_estimators'] = params.get('n_estimators') * 5 + 50\n",
    "    params['reg_lambda'] = max(1,params.get('reg_lambda'))\n",
    "    params['subsample'] = params.get('subsample') * 0.1 + 0.7\n",
    "    params['seed'] = max(1,params.get('seed') )* 100\n",
    "    if count >0:\n",
    "        print('\\n')\n",
    "    print(params)\n",
    "    \n",
    "    params.setdefault('objective','multi:softmax')\n",
    "    params.setdefault('num_class',7)\n",
    "    params.setdefault('silent',1)\n",
    "    params.setdefault('eval_metric','merror')\n",
    "#     params.setdefault('seed',900)\n",
    "    params.setdefault('max_delta_step',30)\n",
    "    \n",
    "\n",
    "    try:\n",
    "        clf = XGBClassifier(**params)\n",
    "        model_bst =  clf.fit(train_x_new, train_y_new)\n",
    "#        model_bst = xgb.train(params, d_train_0820, 800)\n",
    "#        ypred = model_bst.predict(val_x_0821)\n",
    "#        ypred = model_bst.predict(d_test_0820, ntree_limit=model_bst.best_ntree_limit)\n",
    "    except:\n",
    "        print('error!')\n",
    "        score=0\n",
    "    else:\n",
    "        ypred = model_bst.predict(val_x_new)\n",
    "        count = count + 1\n",
    "        score = metrics.f1_score(val_y_new,ypred,average='weighted')#(val_y.values, y_test_by)\n",
    "        if epoch_acc < score:\n",
    "            joblib.dump(model_bst,'xgb_train_0905_apply_feature.model')\n",
    "            epoch_acc = score\n",
    "        print(\"the %s times, the accuary of test dataset(new_feature_select)：\" % str(count),score)\n",
    "        print(\"Time consuming: \",round(time.time()-start_time,2),\"(s)\")\n",
    "    return -score\n",
    "      \n",
    "\n",
    "space = {\"max_depth\":hp.randint(\"max_depth\",21),\n",
    "         \"n_estimators\":hp.randint(\"n_estimators\",10),  #[0,1,2,3,4,5] -> [50,]\n",
    "         \"learning_rate\":hp.uniform(\"eta\",0.01, 0.15),  \n",
    "         \"subsample\":hp.randint(\"subsample\",4),#[0,1,2,3] -> [0.7,0.8,0.9,1.0]\n",
    "         \"reg_lambda\":hp.randint(\"reg_lambda\",15), #\n",
    "         \"reg_alpha\":hp.randint(\"reg_alpha\",3), \n",
    "         \"scale_pos_weight\":hp.uniform(\"scale_pos_weight\", 0.1, 1),\n",
    "         \"gamma\":hp.uniform(\"gamma\", 0.1,0.9),\n",
    "         \"colsample_bytree\":hp.uniform(\"colsample_bytree\", 0.1,1),\n",
    "         \"seed\":hp.randint(\"seed\",12),\n",
    "        }\n",
    "start_time = time.time()\n",
    "count = 0\n",
    "epoch_acc = 0\n",
    "print('=============================begin=============================')\n",
    "best = fmin(xgb_train_0901_new_feature_select, space ,algo = partial(tpe.suggest,n_startup_jobs=1),max_evals=20)\n",
    "space_eval(space,best)\n",
    "print('\\n\\n'+\"Bayesian hyperopt acc :    %f\" % - xgb_train_0901_new_feature_select(space_eval(space , best)))\n",
    "cost_time = time.time()-start_time\n",
    "print ('\\n'+\"Bayesian hyperopt on xgboost finished!\",'\\n',\"the total elapsed time :\",round(cost_time,2),\"(s)\")\n",
    "print('the best params: ','\\n',best)\n",
    "print('=============================over=============================')"
   ]
  },
  {
   "cell_type": "code",
   "execution_count": 31,
   "metadata": {
    "scrolled": true
   },
   "outputs": [
    {
     "name": "stdout",
     "output_type": "stream",
     "text": [
      "['Horizontal_Distance_To_Fire_Points', 0.15797679]\n",
      "['Hillshade_9am', 0.09391929]\n",
      "['Horizontal_Distance_To_Roadways', 0.09193965]\n",
      "['Elevation', 0.09145554]\n",
      "['Aspect', 0.09110975]\n",
      "['Hillshade_3pm', 0.08948166]\n",
      "['Hillshade_Noon', 0.08768932]\n",
      "['Vertical_Distance_To_Hydrology', 0.073912494]\n",
      "['Horizontal_Distance_To_Hydrology', 0.070489176]\n",
      "['Slope', 0.0615851]\n",
      "['Ground_position', 0.04591219]\n",
      "['Wilderness_Area_1', 0.003918947]\n",
      "['Wilderness_Area_3', 0.003446368]\n",
      "['Soil_Type_33', 0.003221605]\n",
      "['Wilderness_Area_2', 0.0029651443]\n",
      "['Soil_Type_32', 0.0027663156]\n",
      "['Soil_Type_10', 0.0024522233]\n",
      "['Soil_Type_24', 0.0023715391]\n",
      "['Soil_Type_31', 0.002311026]\n",
      "['Soil_Type_29', 0.0022274603]\n",
      "['Soil_Type_23', 0.0019133682]\n",
      "['Soil_Type_20', 0.0016943682]\n",
      "['Soil_Type_2', 0.0016280919]\n",
      "['Soil_Type_4', 0.0016223288]\n",
      "['Soil_Type_13', 0.0014321445]\n",
      "['Soil_Type_3', 0.0013860393]\n",
      "['Soil_Type_11', 0.0013312893]\n",
      "['Soil_Type_39', 0.0012938288]\n",
      "['Soil_Type_30', 0.0012246709]\n",
      "['Soil_Type_22', 0.0012217894]\n",
      "['Soil_Type_38', 0.0009682104]\n",
      "['Soil_Type_6', 0.00094803935]\n",
      "['Soil_Type_40', 0.0008126052]\n",
      "['Wilderness_Area_4', 0.000806842]\n",
      "['Soil_Type_12', 0.0005647894]\n"
     ]
    }
   ],
   "source": [
    "sorted_idx = np.argsort(xgb_base.feature_importances_)[::-1]\n",
    "for index in sorted_idx:\n",
    "    print([pd.DataFrame(X).columns[index],xgb_base.feature_importances_[index]])"
   ]
  },
  {
   "cell_type": "code",
   "execution_count": null,
   "metadata": {},
   "outputs": [],
   "source": [
    "new_train_data = train_new_feature[train_new_feature.columns[sorted_idx[:160]]]\n",
    "new_test_data = test_new_feature[test_new_feature.columns[sorted_idx[:160]]]"
   ]
  },
  {
   "cell_type": "code",
   "execution_count": 14,
   "metadata": {},
   "outputs": [
    {
     "name": "stderr",
     "output_type": "stream",
     "text": [
      "/root/anaconda3/lib/python3.6/site-packages/sklearn/preprocessing/label.py:151: DeprecationWarning: The truth value of an empty array is ambiguous. Returning False, but in future this will result in an error. Use `array.size > 0` to check that an array is not empty.\n",
      "  if diff:\n"
     ]
    }
   ],
   "source": [
    "test_new_feature = xgb_base.apply(test_data.drop(['Ground_position','Wilderness_Area_4','Soil_Type_9','Soil_Type_28'],axis=1))\n",
    "new_test_y = xgb_new_model.predict(test_new_feature)\n",
    "np.savetxt('xgb_sklearn_0905_new_feature_drop.csv',new_test_y ,delimiter=',',comments='',fmt='%d')"
   ]
  },
  {
   "cell_type": "code",
   "execution_count": 38,
   "metadata": {},
   "outputs": [],
   "source": [
    "b=np.load('0903_result_array.npy')\n",
    "result= b+ xgb_new_model.predict_proba(test_new_feature)\n",
    "#np.savetxt('rf_train_new_feature_0904_mix.csv',result+1,delimiter=',',comments='',fmt='%d')"
   ]
  },
  {
   "cell_type": "code",
   "execution_count": 40,
   "metadata": {},
   "outputs": [],
   "source": [
    "result = np.argmax(result,axis=1)\n",
    "np.savetxt('rf_train_new_feature_0904_mix.csv',result+1,delimiter=',',comments='',fmt='%d')"
   ]
  },
  {
   "cell_type": "code",
   "execution_count": 3,
   "metadata": {},
   "outputs": [
    {
     "name": "stderr",
     "output_type": "stream",
     "text": [
      "C:\\Program Files\\Anaconda3\\lib\\site-packages\\sklearn\\base.py:312: UserWarning: Trying to unpickle estimator LabelEncoder from version 0.19.1 when using version 0.19.0. This might lead to breaking code or invalid results. Use at your own risk.\n",
      "  UserWarning)\n"
     ]
    }
   ],
   "source": [
    "xgb_base= joblib.load('xgb_sklearn_0821.model')\n",
    "datas=datas.sample(frac=1, replace=True)\n",
    "Y = datas['Cover_Type']\n",
    "X = datas.drop(['Cover_Type'],axis=1)\n",
    "train_new_feature = pd.DataFrame(xgb_base.apply(np.array(X)))\n",
    "test_new_feature = pd.DataFrame(xgb_base.apply(np.array(test_data)))"
   ]
  },
  {
   "cell_type": "code",
   "execution_count": 5,
   "metadata": {},
   "outputs": [],
   "source": [
    "train_x,val_x,train_y,val_y = train_test_split(train_new_feature,Y,test_size = 0.3,random_state=1)"
   ]
  },
  {
   "cell_type": "code",
   "execution_count": 9,
   "metadata": {},
   "outputs": [
    {
     "data": {
      "text/plain": [
       "RandomForestClassifier(bootstrap=True, class_weight=None, criterion='gini',\n",
       "            max_depth=None, max_features='auto', max_leaf_nodes=None,\n",
       "            min_impurity_decrease=0.0, min_impurity_split=None,\n",
       "            min_samples_leaf=1, min_samples_split=2,\n",
       "            min_weight_fraction_leaf=0.0, n_estimators=150, n_jobs=1,\n",
       "            oob_score=False, random_state=None, verbose=0,\n",
       "            warm_start=False)"
      ]
     },
     "execution_count": 9,
     "metadata": {},
     "output_type": "execute_result"
    }
   ],
   "source": [
    "clf = RandomForestClassifier(n_estimators=150)\n",
    "clf.fit(train_x,train_y)"
   ]
  },
  {
   "cell_type": "code",
   "execution_count": 10,
   "metadata": {},
   "outputs": [
    {
     "data": {
      "text/plain": [
       "0.86593728466387365"
      ]
     },
     "execution_count": 10,
     "metadata": {},
     "output_type": "execute_result"
    }
   ],
   "source": [
    "y_pred = clf.predict(val_x)\n",
    "metrics.f1_score(val_y,y_pred,average='weighted')"
   ]
  },
  {
   "cell_type": "code",
   "execution_count": 11,
   "metadata": {
    "collapsed": true
   },
   "outputs": [],
   "source": [
    "new_test_y_rf = clf.predict(test_new_feature)\n",
    "np.savetxt('xgb_train_new_feature_rf_0826.csv',new_test_y_rf  ,delimiter=',',comments='',fmt='%d')"
   ]
  },
  {
   "cell_type": "code",
   "execution_count": 6,
   "metadata": {},
   "outputs": [
    {
     "name": "stdout",
     "output_type": "stream",
     "text": [
      "the base model result is :0.814305556892\n"
     ]
    }
   ],
   "source": [
    "y_base = xgb_base.predict(np.array(X))\n",
    "print('the base model result is :'+str(metrics.f1_score(Y,y_base,average='weighted')))"
   ]
  },
  {
   "cell_type": "code",
   "execution_count": 7,
   "metadata": {},
   "outputs": [
    {
     "name": "stderr",
     "output_type": "stream",
     "text": [
      "C:\\Program Files\\Anaconda3\\lib\\site-packages\\sklearn\\base.py:312: UserWarning: Trying to unpickle estimator LabelEncoder from version 0.19.1 when using version 0.19.0. This might lead to breaking code or invalid results. Use at your own risk.\n",
      "  UserWarning)\n"
     ]
    }
   ],
   "source": [
    "xgb_bst_0823 = joblib.load('xgb_sklearn_0821_new_feature.model')\n",
    "sorted_idx = np.argsort(xgb_bst_0823.feature_importances_)[::-1]\n",
    "new_train_data = train_new_feature[train_new_feature.columns[sorted_idx[:160]]]\n",
    "new_test_data = test_new_feature[test_new_feature.columns[sorted_idx[:160]]]"
   ]
  },
  {
   "cell_type": "code",
   "execution_count": 8,
   "metadata": {},
   "outputs": [
    {
     "name": "stdout",
     "output_type": "stream",
     "text": [
      "the base model result is :0.900356719508\n"
     ]
    }
   ],
   "source": [
    "y_new_feature = xgb_bst_0823.predict(np.array(train_new_feature))\n",
    "print('the new_feature model result is :'+str(metrics.f1_score(Y,y_new_feature,average='weighted')))"
   ]
  },
  {
   "cell_type": "code",
   "execution_count": 5,
   "metadata": {},
   "outputs": [
    {
     "name": "stderr",
     "output_type": "stream",
     "text": [
      "C:\\Program Files\\Anaconda3\\lib\\site-packages\\sklearn\\base.py:312: UserWarning: Trying to unpickle estimator LabelEncoder from version 0.19.1 when using version 0.19.0. This might lead to breaking code or invalid results. Use at your own risk.\n",
      "  UserWarning)\n"
     ]
    }
   ],
   "source": [
    "xgb_adasyn_0825 = joblib.load('xgb_train_0825_new_feature_adasyn.model')\n",
    "new_test_y_0825 = xgb_adasyn_0825.predict(test_new_feature)\n",
    "np.savetxt('xgb_train_new_feature_adasyn_0825.csv',new_test_y_0825 ,delimiter=',',comments='',fmt='%d')"
   ]
  },
  {
   "cell_type": "code",
   "execution_count": 11,
   "metadata": {},
   "outputs": [],
   "source": [
    "new_test_y = xgb_bst_0823.predict(np.array(test_new_feature))\n",
    "np.savetxt('xgb_sklearn_0821_new_feature_23.csv',new_test_y ,delimiter=',',comments='',fmt='%d')"
   ]
  },
  {
   "cell_type": "code",
   "execution_count": 9,
   "metadata": {},
   "outputs": [
    {
     "name": "stderr",
     "output_type": "stream",
     "text": [
      "C:\\Program Files\\Anaconda3\\lib\\site-packages\\sklearn\\base.py:312: UserWarning: Trying to unpickle estimator LabelEncoder from version 0.19.1 when using version 0.19.0. This might lead to breaking code or invalid results. Use at your own risk.\n",
      "  UserWarning)\n"
     ]
    },
    {
     "name": "stdout",
     "output_type": "stream",
     "text": [
      "the new_feature model select  result is :0.843266569253\n"
     ]
    }
   ],
   "source": [
    "xgb_new_feature_select_0823 = joblib.load('xgb_train_0823_new_feature_select.model')\n",
    "y_new_feature_select = xgb_new_feature_select_0823.predict(new_train_data)\n",
    "print('the new_feature model select  result is :'+str(metrics.f1_score(Y,y_new_feature_select,average='weighted')))"
   ]
  },
  {
   "cell_type": "code",
   "execution_count": 7,
   "metadata": {},
   "outputs": [
    {
     "name": "stderr",
     "output_type": "stream",
     "text": [
      "/root/anaconda3/lib/python3.6/site-packages/sklearn/preprocessing/label.py:151: DeprecationWarning: The truth value of an empty array is ambiguous. Returning False, but in future this will result in an error. Use `array.size > 0` to check that an array is not empty.\n",
      "  if diff:\n"
     ]
    }
   ],
   "source": [
    "xgb_new_feature_select_0823 = joblib.load('xgb_train_0823_new_feature_select.model')\n",
    "new_test_y = xgb_new_feature_select_0823.predict(new_test_data)"
   ]
  },
  {
   "cell_type": "code",
   "execution_count": 9,
   "metadata": {},
   "outputs": [
    {
     "ename": "ValueError",
     "evalue": "Expected 1D or 2D array, got 0D array instead",
     "output_type": "error",
     "traceback": [
      "\u001b[0;31m---------------------------------------------------------------------------\u001b[0m",
      "\u001b[0;31mValueError\u001b[0m                                Traceback (most recent call last)",
      "\u001b[0;32m<ipython-input-9-f596719a7645>\u001b[0m in \u001b[0;36m<module>\u001b[0;34m()\u001b[0m\n\u001b[0;32m----> 1\u001b[0;31m \u001b[0mnp\u001b[0m\u001b[0;34m.\u001b[0m\u001b[0msavetxt\u001b[0m\u001b[0;34m(\u001b[0m\u001b[0;34m'xgb_new_feature_select_.csv'\u001b[0m\u001b[0;34m,\u001b[0m\u001b[0mxgb_new_feature_select_0823\u001b[0m\u001b[0;34m,\u001b[0m\u001b[0mdelimiter\u001b[0m\u001b[0;34m=\u001b[0m\u001b[0;34m','\u001b[0m\u001b[0;34m,\u001b[0m\u001b[0mcomments\u001b[0m\u001b[0;34m=\u001b[0m\u001b[0;34m''\u001b[0m\u001b[0;34m,\u001b[0m\u001b[0mfmt\u001b[0m\u001b[0;34m=\u001b[0m\u001b[0;34m'%d'\u001b[0m\u001b[0;34m)\u001b[0m\u001b[0;34m\u001b[0m\u001b[0m\n\u001b[0m",
      "\u001b[0;32m~/anaconda3/lib/python3.6/site-packages/numpy/lib/npyio.py\u001b[0m in \u001b[0;36msavetxt\u001b[0;34m(fname, X, fmt, delimiter, newline, header, footer, comments, encoding)\u001b[0m\n\u001b[1;32m   1318\u001b[0m         \u001b[0;32mif\u001b[0m \u001b[0mX\u001b[0m\u001b[0;34m.\u001b[0m\u001b[0mndim\u001b[0m \u001b[0;34m==\u001b[0m \u001b[0;36m0\u001b[0m \u001b[0;32mor\u001b[0m \u001b[0mX\u001b[0m\u001b[0;34m.\u001b[0m\u001b[0mndim\u001b[0m \u001b[0;34m>\u001b[0m \u001b[0;36m2\u001b[0m\u001b[0;34m:\u001b[0m\u001b[0;34m\u001b[0m\u001b[0m\n\u001b[1;32m   1319\u001b[0m             raise ValueError(\n\u001b[0;32m-> 1320\u001b[0;31m                 \"Expected 1D or 2D array, got %dD array instead\" % X.ndim)\n\u001b[0m\u001b[1;32m   1321\u001b[0m         \u001b[0;32melif\u001b[0m \u001b[0mX\u001b[0m\u001b[0;34m.\u001b[0m\u001b[0mndim\u001b[0m \u001b[0;34m==\u001b[0m \u001b[0;36m1\u001b[0m\u001b[0;34m:\u001b[0m\u001b[0;34m\u001b[0m\u001b[0m\n\u001b[1;32m   1322\u001b[0m             \u001b[0;31m# Common case -- 1d array of numbers\u001b[0m\u001b[0;34m\u001b[0m\u001b[0;34m\u001b[0m\u001b[0m\n",
      "\u001b[0;31mValueError\u001b[0m: Expected 1D or 2D array, got 0D array instead"
     ]
    }
   ],
   "source": [
    "np.savetxt('xgb_new_feature_select_.csv',xgb_new_feature_select_0823,delimiter=',',comments='',fmt='%d')"
   ]
  }
 ],
 "metadata": {
  "anaconda-cloud": {},
  "kernelspec": {
   "display_name": "Python 3",
   "language": "python",
   "name": "python3"
  },
  "language_info": {
   "codemirror_mode": {
    "name": "ipython",
    "version": 3
   },
   "file_extension": ".py",
   "mimetype": "text/x-python",
   "name": "python",
   "nbconvert_exporter": "python",
   "pygments_lexer": "ipython3",
   "version": "3.6.8"
  }
 },
 "nbformat": 4,
 "nbformat_minor": 2
}
